{
  "nbformat": 4,
  "nbformat_minor": 0,
  "metadata": {
    "colab": {
      "name": "DCGAN.ipynb",
      "provenance": [],
      "authorship_tag": "ABX9TyNoCROHGG72tQRlqffwt1Ks",
      "include_colab_link": true
    },
    "kernelspec": {
      "name": "python3",
      "display_name": "Python 3"
    }
  },
  "cells": [
    {
      "cell_type": "markdown",
      "metadata": {
        "id": "view-in-github",
        "colab_type": "text"
      },
      "source": [
        "<a href=\"https://colab.research.google.com/github/JaeHeee/Paper_Review/blob/master/DCGAN/DCGAN.ipynb\" target=\"_parent\"><img src=\"https://colab.research.google.com/assets/colab-badge.svg\" alt=\"Open In Colab\"/></a>"
      ]
    },
    {
      "cell_type": "code",
      "metadata": {
        "id": "xBeXNfLQzi2I",
        "colab_type": "code",
        "colab": {}
      },
      "source": [
        "import tensorflow as tf\n",
        "from tensorflow import keras\n",
        "import matplotlib.pyplot as plt\n",
        "import numpy as np\n",
        "import os\n",
        "import time"
      ],
      "execution_count": 0,
      "outputs": []
    },
    {
      "cell_type": "code",
      "metadata": {
        "id": "xLm_zAZ9z2CF",
        "colab_type": "code",
        "colab": {
          "base_uri": "https://localhost:8080/",
          "height": 52
        },
        "outputId": "55705a75-568c-4dc1-c65a-7fe0323c07fa"
      },
      "source": [
        "(train_images, train_labels), (_, _) = tf.keras.datasets.mnist.load_data()"
      ],
      "execution_count": 2,
      "outputs": [
        {
          "output_type": "stream",
          "text": [
            "Downloading data from https://storage.googleapis.com/tensorflow/tf-keras-datasets/mnist.npz\n",
            "11493376/11490434 [==============================] - 0s 0us/step\n"
          ],
          "name": "stdout"
        }
      ]
    },
    {
      "cell_type": "code",
      "metadata": {
        "id": "GIIa_eIMz93z",
        "colab_type": "code",
        "colab": {}
      },
      "source": [
        "train_images = train_images.reshape(train_images.shape[0], 28, 28, 1).astype('float32')\n",
        "train_images = (train_images - 127.5) / 127.5"
      ],
      "execution_count": 0,
      "outputs": []
    },
    {
      "cell_type": "code",
      "metadata": {
        "id": "CVSRo6NO0Bn9",
        "colab_type": "code",
        "colab": {}
      },
      "source": [
        "BUFFER_SIZE = 60000\n",
        "BATCH_SIZE = 128\n",
        "EPOCHS = 100 \n",
        "seed = tf.random.normal([8, 100])"
      ],
      "execution_count": 0,
      "outputs": []
    },
    {
      "cell_type": "code",
      "metadata": {
        "id": "5HrNzPx-0FvZ",
        "colab_type": "code",
        "colab": {}
      },
      "source": [
        "train_dataset = tf.data.Dataset.from_tensor_slices(train_images).shuffle(BUFFER_SIZE).batch(BATCH_SIZE)"
      ],
      "execution_count": 0,
      "outputs": []
    },
    {
      "cell_type": "code",
      "metadata": {
        "id": "6ZkaW6Wu0HtJ",
        "colab_type": "code",
        "colab": {}
      },
      "source": [
        "class Discriminator(keras.Model):\n",
        "    def __init__(self):\n",
        "        super().__init__(name = \"discriminator\")\n",
        "        self.conv1 = keras.layers.Conv2D(filters=128,kernel_size=(4,4),strides=2,padding='same',kernel_initializer=keras.initializers.RandomNormal(mean=0.0, stddev=0.02))\n",
        "        self.leaky_1 = keras.layers.LeakyReLU(alpha = 0.2)\n",
        "        self.conv2 = keras.layers.Conv2D(filters=256,kernel_size=(4,4),strides=2,padding='same')\n",
        "        self.BN1 = keras.layers.BatchNormalization()\n",
        "        self.leaky_2 = keras.layers.LeakyReLU(alpha = 0.2)\n",
        "        self.flatten = keras.layers.Flatten()\n",
        "        self.BN2 = keras.layers.BatchNormalization()\n",
        "        self.leaky_3 = keras.layers.LeakyReLU(alpha = 0.2)\n",
        "        self.logits = keras.layers.Dense(units = 1, activation='sigmoid')\n",
        "\n",
        "    def call(self, input_tensor):\n",
        "        x = self.conv1(input_tensor)\n",
        "        x = self.leaky_1(x)\n",
        "        x = self.conv2(x)\n",
        "        x = self.BN1(x)\n",
        "        x = self.leaky_2(x)\n",
        "        x = self.flatten(x)\n",
        "        x = self.BN2(x)\n",
        "        x = self.leaky_3(x)\n",
        "        x = self.logits(x)\n",
        "        return x\n"
      ],
      "execution_count": 0,
      "outputs": []
    },
    {
      "cell_type": "code",
      "metadata": {
        "id": "uJNnuR130WT7",
        "colab_type": "code",
        "colab": {}
      },
      "source": [
        "discriminator = Discriminator()"
      ],
      "execution_count": 0,
      "outputs": []
    },
    {
      "cell_type": "code",
      "metadata": {
        "id": "J9Ko1fYb0Yzr",
        "colab_type": "code",
        "colab": {}
      },
      "source": [
        "class Generator(keras.Model):\n",
        "    \n",
        "    def __init__(self):\n",
        "        super().__init__(name='generator')\n",
        "        self.input_layer = keras.layers.Dense(7*7*256)\n",
        "        self.reshape = keras.layers.Reshape((7,7,256))\n",
        "        self.BN1 = keras.layers.BatchNormalization()\n",
        "        self.relu1 = keras.layers.ReLU()\n",
        "        self.conv2dT1 = keras.layers.Conv2DTranspose(filters=128,kernel_size=(4,4),padding='same',strides=2,kernel_initializer=keras.initializers.RandomNormal(mean=0.0, stddev=0.02))\n",
        "        self.BN2 = keras.layers.BatchNormalization()\n",
        "        self.relu2 = keras.layers.ReLU()\n",
        "        self.output_layer = keras.layers.Conv2DTranspose(filters=1,kernel_size=(4,4),strides=2,padding='same',activation = \"tanh\")\n",
        "\n",
        "    def call(self, input_tensor):\n",
        "        x = self.input_layer(input_tensor)\n",
        "        x = self.reshape(x)\n",
        "        x = self.BN1(x)\n",
        "        x = self.relu1(x)\n",
        "        x = self.conv2dT1(x)\n",
        "        x = self.BN2(x)\n",
        "        x = self.relu2(x)\n",
        "        x = self.output_layer(x)\n",
        "        return x\n",
        "    \n",
        "    def generate_noise(self,batch_size, random_noise_size):\n",
        "        return tf.random.normal([batch_size, random_noise_size])\n"
      ],
      "execution_count": 0,
      "outputs": []
    },
    {
      "cell_type": "code",
      "metadata": {
        "id": "Y6hZD-7E5XH1",
        "colab_type": "code",
        "colab": {}
      },
      "source": [
        "generator = Generator()"
      ],
      "execution_count": 0,
      "outputs": []
    },
    {
      "cell_type": "code",
      "metadata": {
        "id": "0TjRklCu0fuQ",
        "colab_type": "code",
        "colab": {}
      },
      "source": [
        "cross_entropy = tf.keras.losses.BinaryCrossentropy(from_logits = True)\n",
        "\n",
        "def Discriminator_loss(real_output, fake_output):\n",
        "        real_loss = cross_entropy(tf.ones_like(real_output), real_output)\n",
        "        fake_loss = cross_entropy(tf.zeros_like(fake_output), fake_output)\n",
        "        total_loss = real_loss + fake_loss\n",
        "        return total_loss\n",
        "\n",
        "def Generator_loss(fake_output):\n",
        "    loss = cross_entropy(tf.ones_like(fake_output), fake_output)\n",
        "    return loss"
      ],
      "execution_count": 0,
      "outputs": []
    },
    {
      "cell_type": "code",
      "metadata": {
        "id": "knMaVR080l-R",
        "colab_type": "code",
        "colab": {}
      },
      "source": [
        "discriminator_optimizer = keras.optimizers.Adam(0.0002,0.5)\n",
        "generator_optimizer = keras.optimizers.Adam(0.0002,0.5)"
      ],
      "execution_count": 0,
      "outputs": []
    },
    {
      "cell_type": "code",
      "metadata": {
        "id": "jRychrG40-A9",
        "colab_type": "code",
        "colab": {}
      },
      "source": [
        "def training_step(generator: Generator, discriminator: Discriminator, images:np.ndarray, batch_size = BATCH_SIZE):\n",
        "    noise = generator.generate_noise(batch_size, 100)\n",
        "    with tf.GradientTape() as gen_tape, tf.GradientTape() as disc_tape:\n",
        "        generated_images = generator(noise,training=True)\n",
        "\n",
        "        real_output = discriminator(images,training=True)\n",
        "        fake_output = discriminator(generated_images,training=True)\n",
        "\n",
        "            \n",
        "        disc_loss = Discriminator_loss(real_output, fake_output)\n",
        "        gradients_of_discriminator = disc_tape.gradient(disc_loss, discriminator.trainable_variables)\n",
        "        discriminator_optimizer.apply_gradients(zip(gradients_of_discriminator, discriminator.trainable_variables))\n",
        "            \n",
        "        gen_loss = Generator_loss(fake_output)\n",
        "        gradients_of_generator = gen_tape.gradient(gen_loss, generator.trainable_variables)\n",
        "        generator_optimizer.apply_gradients(zip(gradients_of_generator, generator.trainable_variables))"
      ],
      "execution_count": 0,
      "outputs": []
    },
    {
      "cell_type": "code",
      "metadata": {
        "id": "LchkNcRy1Ibx",
        "colab_type": "code",
        "colab": {}
      },
      "source": [
        "def generate_and_save_images(model, epoch, test_input):\n",
        "    predictions = model(test_input,training=False)\n",
        "\n",
        "    plt.figure(figsize=(10,10))\n",
        "\n",
        "    for i in range(predictions.shape[0]):\n",
        "        plt.subplot(1, 8, i+1)\n",
        "        plt.imshow(tf.reshape(predictions[i], shape = (28,28)), cmap='gray')\n",
        "        plt.axis('off')\n",
        "    plt.tight_layout()\n",
        "    plt.show()"
      ],
      "execution_count": 0,
      "outputs": []
    },
    {
      "cell_type": "code",
      "metadata": {
        "id": "nAZn-D_k1KOh",
        "colab_type": "code",
        "colab": {}
      },
      "source": [
        "def train(dataset, epochs):\n",
        "    for epoch in range(epochs+1):\n",
        "        start = time.time()\n",
        "        for image_batch in dataset:\n",
        "            training_step(generator, discriminator, image_batch , batch_size=BATCH_SIZE)\n",
        "        if (epoch % 10) == 0:\n",
        "            print('Epoch:', str(epoch))\n",
        "            print ('Time for epoch {} is {} sec'.format(epoch, time.time()-start))\n",
        "            generate_and_save_images(generator,epoch,seed)"
      ],
      "execution_count": 0,
      "outputs": []
    },
    {
      "cell_type": "code",
      "metadata": {
        "id": "lVdIaa7H1KRv",
        "colab_type": "code",
        "colab": {}
      },
      "source": [
        "%%time\n",
        "train(train_dataset, EPOCHS)"
      ],
      "execution_count": 0,
      "outputs": []
    }
  ]
}