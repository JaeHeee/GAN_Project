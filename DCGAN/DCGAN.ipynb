{
  "nbformat": 4,
  "nbformat_minor": 0,
  "metadata": {
    "colab": {
      "name": "Untitled5.ipynb",
      "provenance": [],
      "collapsed_sections": []
    },
    "kernelspec": {
      "name": "python3",
      "display_name": "Python 3"
    },
    "accelerator": "GPU"
  },
  "cells": [
    {
      "cell_type": "code",
      "metadata": {
        "id": "keEJK4X7S4c4",
        "colab_type": "code",
        "colab": {}
      },
      "source": [
        "import tensorflow as tf\n",
        "from tensorflow import keras\n",
        "import matplotlib.pyplot as plt\n",
        "import numpy as np\n",
        "import os\n",
        "import time"
      ],
      "execution_count": 0,
      "outputs": []
    },
    {
      "cell_type": "code",
      "metadata": {
        "id": "wtg1roHJTAKf",
        "colab_type": "code",
        "colab": {}
      },
      "source": [
        "tf.enable_eager_execution()"
      ],
      "execution_count": 0,
      "outputs": []
    },
    {
      "cell_type": "code",
      "metadata": {
        "id": "ibVJxWRRTIcm",
        "colab_type": "code",
        "colab": {}
      },
      "source": [
        "BUFFER_SIZE = 10000\n",
        "BATCH_SIZE = 128\n",
        "EPOCHS = 200 \n",
        "seed = tf.random.normal([8, 100])\n",
        "#  np.random.uniform(-1,1, size = (8, 100)).astype(np.float32)"
      ],
      "execution_count": 0,
      "outputs": []
    },
    {
      "cell_type": "code",
      "metadata": {
        "id": "RirsTguMTIuy",
        "colab_type": "code",
        "colab": {}
      },
      "source": [
        "mnist = keras.datasets.mnist\n",
        "(train_images, train_labels), (test_images, test_labels) = mnist.load_data()\n",
        "train_images = train_images.reshape(-1, 28,28, 1)\n",
        "train_images = train_images.astype(np.float32)\n",
        "train_images = (train_images - 127.5) / 127.5\n",
        "# train_images = tf.image.resize_images(train_images, [64, 64])\n",
        "train_dataset = tf.data.Dataset.from_tensor_slices(train_images).shuffle(BUFFER_SIZE).batch(BATCH_SIZE)"
      ],
      "execution_count": 0,
      "outputs": []
    },
    {
      "cell_type": "code",
      "metadata": {
        "id": "bxD4DE1VTZW2",
        "colab_type": "code",
        "colab": {}
      },
      "source": [
        "class Discriminator(keras.Model):\n",
        "    def __init__(self):\n",
        "        super().__init__(name = \"discriminator\")\n",
        "        self.conv1 = keras.layers.Conv2D(filters=32,kernel_size=(5,5),strides=2,padding='same',kernel_initializer=keras.initializers.random_normal(mean=0.0, stddev=0.02))\n",
        "        self.leaky_1 = keras.layers.LeakyReLU(alpha = 0.2)\n",
        "        self.conv2 = keras.layers.Conv2D(filters=64,kernel_size=(5,5),strides=2,padding='same')\n",
        "        self.BN1 = keras.layers.BatchNormalization()\n",
        "        self.leaky_2 = keras.layers.LeakyReLU(alpha = 0.2)\n",
        "        self.conv3 = keras.layers.Conv2D(filters=128,kernel_size=(5,5),strides=2,padding='same')\n",
        "        self.BN2 = keras.layers.BatchNormalization()\n",
        "        self.leaky_3 = keras.layers.LeakyReLU(alpha = 0.2)\n",
        "        self.flatten = keras.layers.Flatten()\n",
        "        self.logits = keras.layers.Dense(units = 1, activation='sigmoid')\n",
        "        # self.conv1 = keras.layers.Conv2D(filters=128,kernel_size=(4,4),strides=2,padding='same',kernel_initializer=keras.initializers.random_normal(mean=0.0, stddev=0.02))\n",
        "        # self.leaky_1 =  keras.layers.LeakyReLU(alpha = 0.2)\n",
        "        # self.conv2 = keras.layers.Conv2D(filters=256,kernel_size=(4,4),strides=2,padding='same')\n",
        "        # self.BN2 = keras.layers.BatchNormalization()\n",
        "        # self.leaky_2 = keras.layers.LeakyReLU(alpha = 0.2)\n",
        "        # self.conv3 = keras.layers.Conv2D(filters=512,kernel_size=(4,4),strides=2,padding='same')\n",
        "        # self.BN3 = keras.layers.BatchNormalization()\n",
        "        # self.leaky_3 = keras.layers.LeakyReLU(alpha = 0.2)\n",
        "        # self.conv4 = keras.layers.Conv2D(filters=1024,kernel_size=(4,4),strides=2,padding='same')\n",
        "        # self.BN4 = keras.layers.BatchNormalization()\n",
        "        # self.leaky_4 = keras.layers.LeakyReLU(alpha = 0.2)\n",
        "        # self.flatten = keras.layers.Flatten()\n",
        "        # self.logits = keras.layers.Dense(units = 1, activation='sigmoid')\n",
        "\n",
        "    def call(self, input_tensor):\n",
        "        x = self.conv1(input_tensor)\n",
        "        x = self.leaky_1(x)\n",
        "        x = self.conv2(x)\n",
        "        x = self.BN1(x)\n",
        "        x = self.leaky_2(x)\n",
        "        x = self.conv3(x)\n",
        "        x = self.BN2(x)\n",
        "        x = self.leaky_3(x)\n",        
        "        x = self.flatten(x)\n",
        "        x = self.logits(x)\n",
        "        # x = self.conv1(input_tensor)\n",
        "        # x = self.leaky_1(x)\n",
        "        # x = self.conv2(x)\n",
        "        # x = self.BN2(x)\n",
        "        # x = self.leaky_2(x)\n",
        "        # x = self.conv3(x)\n",
        "        # x = self.BN3(x)\n",
        "        # x = self.leaky_3(x)\n",
        "        # x = self.conv4(x)\n",
        "        # x = self.BN4(x)\n",
        "        # x = self.leaky_4(x)\n",
        "        # x = self.flatten(x)\n",
        "        # x = self.logits(x)\n",
        "        return x\n",
        "\n",
        "\n",
        "discriminator = Discriminator()"
      ],
      "execution_count": 0,
      "outputs": []
    },
    {
      "cell_type": "code",
      "metadata": {
        "id": "Y7J0fhSRZQRI",
        "colab_type": "code",
        "colab": {}
      },
      "source": [
        "class Generator(keras.Model):\n",
        "    \n",
        "    def __init__(self):\n",
        "        super().__init__(name='generator')\n",
        "        self.input_layer = keras.layers.Dense(7*7*128)\n",
        "        self.reshape = keras.layers.Reshape((7,7,128))\n",
        "        self.BN1 = keras.layers.BatchNormalization()\n",
        "        self.relu1 = keras.layers.ReLU()\n",
        "        self.conv2dT1 = keras.layers.Conv2DTranspose(filters=64,kernel_size=(5,5),padding='same',strides=2,kernel_initializer=keras.initializers.random_normal(mean=0.0, stddev=0.02))\n",
        "        self.BN2 = keras.layers.BatchNormalization()\n",
        "        self.relu2 = keras.layers.ReLU()\n",
        "        self.conv2dT2 = keras.layers.Conv2DTranspose(filters=32,kernel_size=(5,5),strides=2,padding='same')\n",
        "        self.BN3 = keras.layers.BatchNormalization()\n",
        "        self.relu3 = keras.layers.ReLU()\n",
        "        self.output_layer = keras.layers.Conv2DTranspose(filters=1,kernel_size=(4,4),strides=2,padding='same',activation = \"tanh\")\n",
        "        # self.input_layer = keras.layers.Dense(100)\n",
        "        # self.reshape = keras.layers.Reshape((1,1,100))\n",
        "        # self.conv2dT1 = keras.layers.Conv2DTranspose(filters=1024,kernel_size=(4,4),strides=1,kernel_initializer=keras.initializers.random_normal(mean=0.0, stddev=0.02))\n",
        "        # self.BN1 = keras.layers.BatchNormalization()\n",
        "        # self.relu1 = keras.layers.ReLU()\n",
        "        # self.conv2dT2 = keras.layers.Conv2DTranspose(filters=512,kernel_size=(4,4),strides=2,padding='same')\n",
        "        # self.BN2 = keras.layers.BatchNormalization()\n",
        "        # self.relu2 = keras.layers.ReLU()\n",
        "        # self.conv2dT3 = keras.layers.Conv2DTranspose(filters=256,kernel_size=(4,4),strides=2,padding='same')\n",
        "        # self.BN3 = keras.layers.BatchNormalization()\n",
        "        # self.relu3 = keras.layers.ReLU()\n",
        "        # self.conv2dT4 = keras.layers.Conv2DTranspose(filters=128,kernel_size=(4,4),strides=2,padding='same')\n",
        "        # self.relu4 = keras.layers.ReLU()\n",
        "        # self.output_layer = keras.layers.Conv2DTranspose(filters=1,kernel_size=(4,4),strides=2,padding='same',activation = \"tanh\")\n",
        "        \n",
        "    def call(self, input_tensor):\n",
        "        x = self.input_layer(input_tensor)\n",
        "        x = self.reshape(x)\n",
        "        x = self.BN1(x)\n",
        "        x = self.relu1(x)\n",
        "        x = self.conv2dT1(x)\n",
        "        x = self.BN2(x)\n",
        "        x = self.relu2(x)\n",
        "        x = self.conv2dT2(x)\n",
        "        x = self.BN3(x)\n",
        "        x = self.relu3(x)\n",
        "        x = self.output_layer(x)\n",
        "        # x = self.input_layer(input_tensor)\n",
        "        # x = self.reshape(x)\n",
        "        # x = self.conv2dT1(x)\n",
        "        # x = self.BN1(x)\n",
        "        # x = self.relu1(x)\n",
        "        # x = self.conv2dT2(x)\n",
        "        # x = self.BN2(x)\n",
        "        # x = self.relu2(x)\n",
        "        # x = self.conv2dT3(x)\n",
        "        # x = self.BN3(x)\n",
        "        # x = self.relu3(x)\n",
        "        # x = self.conv2dT4(x)\n",
        "        # x = self.relu4(x)\n",
        "        # x = self.output_layer(x)\n",
        "        return x\n",
        "    \n",
        "    def generate_noise(self,batch_size, random_noise_size):\n",
        "        return tf.random.normal([batch_size, random_noise_size])\n",
        "        #  np.random.uniform(-1,1, size = (batch_size, random_noise_size)).astype(np.float32)\n",
        "\n",
        "generator = Generator()"
      ],
      "execution_count": 0,
      "outputs": []
    },
    {
      "cell_type": "code",
      "metadata": {
        "id": "8lZImN-SeU8D",
        "colab_type": "code",
        "colab": {}
      },
      "source": [
        "cross_entropy = tf.keras.losses.BinaryCrossentropy(from_logits = True)\n",
        "\n",
        "def Discriminator_loss(real_output, fake_output,smoothing_factor = 0.9):\n",
        "        real_loss = cross_entropy(tf.ones_like(real_output)*smoothing_factor, real_output)\n",
        "        fake_loss = cross_entropy(tf.zeros_like(fake_output), fake_output)\n",
        "        total_loss = real_loss + fake_loss\n",
        "        return total_loss\n",
        "\n",
        "def Generator_loss(fake_output):\n",
        "    loss = cross_entropy(tf.ones_like(fake_output), fake_output)\n",
        "    return loss"
      ],
      "execution_count": 0,
      "outputs": []
    },
    {
      "cell_type": "code",
      "metadata": {
        "id": "_uSkDUH1eVAW",
        "colab_type": "code",
        "colab": {}
      },
      "source": [
        "discriminator_optimizer = keras.optimizers.Adam(0.0002,0.5)\n",
        "generator_optimizer = keras.optimizers.Adam(0.0002,0.5)"
      ],
      "execution_count": 0,
      "outputs": []
    },
    {
      "cell_type": "code",
      "metadata": {
        "id": "Ts7xpXe-fHui",
        "colab_type": "code",
        "colab": {}
      },
      "source": [
        "@tf.function()\n",
        "def training(generator: Generator, discriminator: Discriminator, images:np.ndarray , k:int =1, batch_size = BATCH_SIZE):\n",
        "    noise = generator.generate_noise(batch_size, 100)\n",
        "    for _ in range(k):\n",
        "        with tf.GradientTape() as gen_tape, tf.GradientTape() as disc_tape:\n",
        "            generated_images = generator(noise,training=True)\n",
        "\n",
        "            real_output = discriminator(images,training=True)\n",
        "            fake_output = discriminator(generated_images,training=True)\n",
        "\n",
        "            gen_loss = Generator_loss(fake_output)\n",
        "            gradients_of_generator = gen_tape.gradient(gen_loss, generator.trainable_variables)\n",
        "            generator_optimizer.apply_gradients(zip(gradients_of_generator, generator.trainable_variables))\n",
        "\n",
        "\n",
        "            disc_loss = Discriminator_loss(real_output, fake_output)\n",
        "            gradients_of_discriminator = disc_tape.gradient(disc_loss, discriminator.trainable_variables)\n",
        "            discriminator_optimizer.apply_gradients(zip(gradients_of_discriminator, discriminator.trainable_variables))"
      ],
      "execution_count": 0,
      "outputs": []
    },
    {
      "cell_type": "code",
      "metadata": {
        "id": "Mq-tAqhkeU2_",
        "colab_type": "code",
        "colab": {}
      },
      "source": [
        "def generate_and_save_images(model, epoch, test_input):\n",
        "    predictions = model(test_input,training=False)\n",
        "    #predictions=tf.image.resize_images(predictions, [28, 28])\n",
        "\n",
        "    plt.figure(figsize=(10,10))\n",
        "\n",
        "    for i in range(predictions.shape[0]):\n",
        "        plt.subplot(1, 8, i+1) \n",
        "        plt.imshow(tf.reshape(predictions[i], shape = (28,28)), cmap='gray')\n",
        "        plt.axis('off')\n",
        "    plt.tight_layout()\n",
        "    plt.show()"
      ],
      "execution_count": 0,
      "outputs": []
    },
    {
      "cell_type": "code",
      "metadata": {
        "id": "F2c0qnBteU13",
        "colab_type": "code",
        "colab": {}
      },
      "source": [
        "def train(dataset, epochs):\n",
        "    for epoch in range(epochs):\n",
        "        start = time.time()\n",
        "        for image_batch in dataset:\n",
        "            training(generator, discriminator, image_batch ,k = 1, batch_size=BATCH_SIZE)\n",
        "        print ('Time for epoch {} is {} sec'.format(epoch, time.time()-start))\n",
        "        if (epoch % 5) == 0:\n",
        "            print('Epoch:', str(epoch))\n",
        "            generate_and_save_images(generator,epoch,seed)"
      ],
      "execution_count": 0,
      "outputs": []
    },
    {
      "cell_type": "code",
      "metadata": {
        "id": "8SoG_V2AeUzw",
        "colab_type": "code",
        "colab": {}
      },
      "source": [
        "%%time\n",
        "train(train_dataset, EPOCHS)"
      ],
      "execution_count": 0,
      "outputs": []
    },
    {
      "cell_type": "code",
      "metadata": {
        "id": "x4t2SUkm-zvj",
        "colab_type": "code",
        "colab": {}
      },
      "source": [
        ""
      ],
      "execution_count": 0,
      "outputs": []
    }
  ]
}
